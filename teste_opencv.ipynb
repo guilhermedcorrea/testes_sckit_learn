{
 "cells": [
  {
   "cell_type": "code",
   "execution_count": 16,
   "metadata": {},
   "outputs": [],
   "source": [
    "import numpy as np\n",
    "import cv2\n",
    "import warnings\n",
    "import pandas as pd\n",
    "\n",
    "from time import time\n",
    "import matplotlib.pyplot as plt\n",
    "from sklearn.metrics import classification_report\n",
    "from sklearn.metrics import ConfusionMatrixDisplay\n",
    "from sklearn.model_selection import train_test_split\n",
    "from sklearn.model_selection import RandomizedSearchCV\n",
    "from sklearn.datasets import fetch_lfw_people\n",
    "from sklearn.preprocessing import StandardScaler\n",
    "from sklearn.decomposition import PCA\n",
    "from sklearn.svm import SVC\n",
    "from sklearn.utils.fixes import loguniform\n",
    "import matplotlib.pyplot as plt\n",
    "import os\n",
    "\n",
    "from sklearn.svm import SVC\n"
   ]
  },
  {
   "cell_type": "code",
   "execution_count": 17,
   "metadata": {},
   "outputs": [],
   "source": [
    "warnings.simplefilter(action='ignore')\n"
   ]
  },
  {
   "cell_type": "code",
   "execution_count": 18,
   "metadata": {},
   "outputs": [],
   "source": [
    "data = pd.read_csv(r\"C:\\teste_opencv_sckit_learn\\teste_tipos.csv\",sep=\";\")"
   ]
  },
  {
   "cell_type": "code",
   "execution_count": 19,
   "metadata": {},
   "outputs": [],
   "source": [
    "dict_imgs = data.to_dict(\"records\")"
   ]
  },
  {
   "cell_type": "code",
   "execution_count": 20,
   "metadata": {},
   "outputs": [
    {
     "name": "stdout",
     "output_type": "stream",
     "text": [
      "torneira https://produtos.deca.com.br/4992.C99.03/PTI/imagem-principal_4992.c99.03_V1_M.jpg\n",
      "torneira https://produtos.deca.com.br/2241.C.MR/PTI/imagem-principal_2241.c.mr_V1_M.jpg\n",
      "torneira https://produtos.deca.com.br/1258.C27/PTI/imagem-principal_1258.c27_V1_M.jpg\n",
      "torneira https://produtos.deca.com.br/1162.C/PTI/imagem-principal_1162.c_V1_M.jpg\n",
      "torneira https://produtos.deca.com.br/1159.C37/PTI/imagem-principal_1159.c37_V1_M.jpg\n",
      "torneira https://produtos.deca.com.br/1189.C.PT/PTI/imagem-principal_1189.c.pt_V1_M.jpg\n",
      "assento https://produtos.deca.com.br/AP.01.17/PTI/imagem-principal_ap.01.17_V1_M.jpg\n",
      "assento https://produtos.deca.com.br/AP.165.17/PTI/imagem-principal_ap.165.17_V1_M.jpg\n",
      "assento https://produtos.deca.com.br/AP.215.17/PTI/imagem-principal_ap.215.17_V1_M.jpg\n",
      "cuba https://produtos.deca.com.br/CC.620.75.DUO.INX/PTI/imagem-principal_cc.620.75.duo.inx_V1_M.jpg\n",
      "cuba https://produtos.deca.com.br/AC.300.42.MULT.VD/PTI/imagem-principal_ac.300.42.mult.vd_V1_M.jpg\n",
      "cuba https://produtos.deca.com.br/CC.610.50.STD.INX/PTI/imagem-principal_cc.610.50.std.inx_V1_M.jpg\n"
     ]
    }
   ],
   "source": [
    "for imgs in dict_imgs:\n",
    "    print(imgs['tipo'],imgs['url'])"
   ]
  },
  {
   "cell_type": "code",
   "execution_count": 21,
   "metadata": {},
   "outputs": [],
   "source": [
    "from urllib.request import urlopen"
   ]
  },
  {
   "cell_type": "code",
   "execution_count": 22,
   "metadata": {},
   "outputs": [],
   "source": [
    "resp = urlopen(imgs['url'])\n",
    "image = np.asarray(bytearray(resp.read()), dtype=\"uint8\")\n",
    "image = cv2.imdecode(image, cv2.IMREAD_COLOR) # The image object\n",
    "image = cv2.imread(f\"{imgs['url']}\")\n",
    "#image = cv2.resize(f'{image}', (300,300))"
   ]
  },
  {
   "cell_type": "code",
   "execution_count": 23,
   "metadata": {},
   "outputs": [],
   "source": [
    "image"
   ]
  },
  {
   "cell_type": "code",
   "execution_count": 24,
   "metadata": {},
   "outputs": [],
   "source": [
    "image = cv2.imread(f\"{imgs['url']}\")\n",
    "#image = cv2.resize(f'{image}', (300,300))"
   ]
  },
  {
   "cell_type": "code",
   "execution_count": 25,
   "metadata": {},
   "outputs": [
    {
     "name": "stdout",
     "output_type": "stream",
     "text": [
      "13350641PRM002G.jpg\n",
      "20590620PRM001G.jpg\n",
      "28595322PRM001G.jpg\n"
     ]
    }
   ],
   "source": [
    "data_path = r'C:\\teste_opencv_sckit_learn\\imagens'\n",
    "\n",
    "image_names = []\n",
    "x_image = []\n",
    "y_label = []\n",
    "\n",
    "labels = os.listdir(data_path)\n",
    "cont = len(labels)\n",
    "i = 0\n",
    "while i < cont:\n",
    "    try:\n",
    "        if '.jpg' in labels[i]:\n",
    "            if labels[i] != None:\n",
    "                image_names.append(labels[i])\n",
    "                image = cv2.imread(os.path.join(data_path,labels[i]))\n",
    "                image = cv2.resize(image, (300,300))\n",
    "                x_image.append(image.flatten())\n",
    "                y_label.append(labels[i])\n",
    "                print(labels[i])\n",
    "                #13350641PRM002G.jpg\n",
    "                #print(image)\n",
    "    except:\n",
    "        pass   \n",
    "    i +=1\n",
    "    \n",
    "    \n",
    "x_image_n = np.array(x_image)\n",
    "\n",
    "\n",
    "y_label_n = np.array(y_label)\n",
    "y_label_n.shape \n",
    "       \n",
    "       \n",
    "x_train, x_test, y_train, y_test = train_test_split(x_image_n, y_label_n, test_size=0.2, random_state=0)\n",
    "x_train\n",
    "\n",
    "clf = SVC(gamma=0.001)\n",
    " \n",
    "clf.fit(x_train, y_train)\n",
    "predicted = clf.predict(x_test)"
   ]
  },
  {
   "cell_type": "code",
   "execution_count": 26,
   "metadata": {},
   "outputs": [
    {
     "name": "stdout",
     "output_type": "stream",
     "text": [
      "Detalhes classificação SVC(gamma=0.001):\n",
      "                     precision    recall  f1-score   support\n",
      "\n",
      "20590620PRM001G.jpg       0.00      0.00      0.00       0.0\n",
      "28595322PRM001G.jpg       0.00      0.00      0.00       1.0\n",
      "\n",
      "           accuracy                           0.00       1.0\n",
      "          macro avg       0.00      0.00      0.00       1.0\n",
      "       weighted avg       0.00      0.00      0.00       1.0\n",
      "\n",
      "\n"
     ]
    }
   ],
   "source": [
    "print(\n",
    "    f\"Detalhes classificação {clf}:\\n\"\n",
    "    f\"{classification_report(y_test, predicted)}\\n\"\n",
    ")"
   ]
  },
  {
   "cell_type": "code",
   "execution_count": 27,
   "metadata": {},
   "outputs": [
    {
     "name": "stdout",
     "output_type": "stream",
     "text": [
      "Confusion matrix:\n",
      "[[0 0]\n",
      " [1 0]]\n"
     ]
    },
    {
     "data": {
      "image/png": "[encoded data removed]",
      "text/plain": [
       "<Figure size 640x480 with 2 Axes>"
      ]
     },
     "metadata": {},
     "output_type": "display_data"
    }
   ],
   "source": [
    "disp = ConfusionMatrixDisplay.from_predictions(y_test, predicted)\n",
    "disp.figure_.suptitle(\"Confusion Matrix\")\n",
    "print(f\"Confusion matrix:\\n{disp.confusion_matrix}\")\n",
    "\n",
    "plt.show()"
   ]
  },
  {
   "cell_type": "code",
   "execution_count": 28,
   "metadata": {},
   "outputs": [
    {
     "name": "stdout",
     "output_type": "stream",
     "text": [
      "Detalhes confusion matrix:\n",
      "              precision    recall  f1-score   support\n",
      "\n",
      "           0       0.00      0.00      0.00       0.0\n",
      "           1       0.00      0.00      0.00       1.0\n",
      "\n",
      "    accuracy                           0.00       1.0\n",
      "   macro avg       0.00      0.00      0.00       1.0\n",
      "weighted avg       0.00      0.00      0.00       1.0\n",
      "\n",
      "\n"
     ]
    }
   ],
   "source": [
    "y_true = []\n",
    "y_pred = []\n",
    "cm = disp.confusion_matrix\n",
    "\n",
    "\n",
    "# Para cada célula na matriz de confusão, são adicionados  correspondentes\n",
    "# e previsões para as listas\n",
    "\n",
    "for gt in range(len(cm)):\n",
    "    for pred in range(len(cm)):\n",
    "        y_true += [gt] * cm[gt][pred]\n",
    "        y_pred += [pred] * cm[gt][pred]\n",
    "\n",
    "print(\n",
    "    \"Detalhes confusion matrix:\\n\"\n",
    "    f\"{classification_report(y_true, y_pred)}\\n\"\n",
    ")\n",
    " "
   ]
  }
 ],
 "metadata": {
  "kernelspec": {
   "display_name": "venv",
   "language": "python",
   "name": "python3"
  },
  "language_info": {
   "codemirror_mode": {
    "name": "ipython",
    "version": 3
   },
   "file_extension": ".py",
   "mimetype": "text/x-python",
   "name": "python",
   "nbconvert_exporter": "python",
   "pygments_lexer": "ipython3",
   "version": "3.11.2"
  },
  "orig_nbformat": 4
 },
 "nbformat": 4,
 "nbformat_minor": 2
}
