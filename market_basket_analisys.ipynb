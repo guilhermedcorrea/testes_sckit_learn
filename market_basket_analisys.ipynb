{
 "cells": [
  {
   "cell_type": "code",
   "execution_count": null,
   "metadata": {},
   "outputs": [],
   "source": [
    "import pandas as pd\n",
    "from apyori import apriori\n",
    "from pyECLAT import ECLAT\n"
   ]
  },
  {
   "cell_type": "code",
   "execution_count": null,
   "metadata": {},
   "outputs": [],
   "source": [
    "base_mercado = pd.read_excel(r\"C:\\teste_classifica\\Sample - Superstore.xls\")\n",
    "\n",
    "base_mercado.dropna(inplace=True)\n",
    "base_mercado = base_mercado[['Order ID','Order Date','Quantity','Sales','Sub-Category','Product Name','Product ID']]\n",
    "base_mercado['unitario'] = base_mercado['Sales'] / base_mercado['Quantity']\n",
    "base_mercado[['unitario','Sales']] = base_mercado[['unitario','Sales']].astype(float).round(2)\n",
    "base_mercado['Quantity'] = base_mercado['Quantity'].astype(int)\n",
    "base_mercado['Order Date'] = pd.to_datetime(base_mercado['Order Date'],errors='coerce')"
   ]
  },
  {
   "cell_type": "code",
   "execution_count": null,
   "metadata": {},
   "outputs": [],
   "source": [
    "base_mercado = base_mercado[['unitario','Product Name','Product ID']]"
   ]
  },
  {
   "cell_type": "code",
   "execution_count": null,
   "metadata": {},
   "outputs": [],
   "source": [
    "def apriori_df() -> list:\n",
    "   \n",
    "    cont = len(base_mercado)\n",
    "    cools = len(base_mercado.columns)\n",
    "    transacoes = []\n",
    "    for i in range(0, cont):\n",
    "        transacoes.append([str(base_mercado.values[i, j]) for j in range(0, cools)])\n",
    "    return transacoes\n",
    "\n",
    "def calculate_apriori() -> None:\n",
    "    transacoes = apriori_df()\n",
    "    new_transacoes= [item for item in transacoes]\n",
    "   \n",
    "    regras = apriori(new_transacoes, min_support=0.003,\n",
    "                      min_confidence=0.01, min_lift=0.01, min_lenght=2)\n",
    "    \n",
    "    new_regra = [regra for regra in regras]\n",
    "    yield new_regra\n",
    "\n",
    "testes = calculate_apriori()\n",
    "new = list(testes)"
   ]
  },
  {
   "cell_type": "code",
   "execution_count": null,
   "metadata": {},
   "outputs": [],
   "source": [
    "lista_dicts = []"
   ]
  },
  {
   "cell_type": "code",
   "execution_count": null,
   "metadata": {},
   "outputs": [],
   "source": [
    "testes = [item for item in new]\n",
    "\n",
    "for i in range(len(testes[0])):\n",
    "    apriori_dict = {}\n",
    "    orders = testes[0][i]\n",
    "    \n",
    "    s = orders[1]\n",
    "    apriori_dict['suporte'] = round(s,2)\n",
    "    result_rules = orders[2]\n",
    "    for result_rule in result_rules:\n",
    "        a = list(result_rule[0])\n",
    "        b = list(result_rule[1])\n",
    "        apriori_dict['items1'] = result_rule[0]\n",
    "        apriori_dict['items'] = result_rule[1]\n",
    "        apriori_dict['Confianca'] = result_rule[2]\n",
    "        apriori_dict['lift'] = result_rule[3]\n",
    "        lista_dicts.append(apriori_dict)\n",
    "        "
   ]
  },
  {
   "cell_type": "code",
   "execution_count": null,
   "metadata": {},
   "outputs": [],
   "source": [
    "lista_dicts"
   ]
  }
 ],
 "metadata": {
  "language_info": {
   "name": "python"
  },
  "orig_nbformat": 4
 },
 "nbformat": 4,
 "nbformat_minor": 2
}
