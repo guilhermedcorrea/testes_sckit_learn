{
 "cells": [
  {
   "cell_type": "code",
   "execution_count": 101,
   "metadata": {},
   "outputs": [],
   "source": [
    "import seaborn as sns\n",
    "import pandas as pd\n",
    "import numpy as np\n",
    "import re\n",
    "from sklearn.model_selection import train_test_split\n",
    "from sklearn.feature_extraction.text import CountVectorizer\n",
    "from sklearn.feature_extraction.text import TfidfTransformer\n",
    "from sklearn.feature_extraction.text import TfidfVectorizer\n",
    "import time\n",
    "from sklearn import svm\n",
    "from sklearn.metrics import classification_report\n",
    "\n",
    "from sklearn.svm import LinearSVC, SVC"
   ]
  },
  {
   "cell_type": "code",
   "execution_count": 102,
   "metadata": {},
   "outputs": [],
   "source": [
    "import warnings\n",
    "warnings.simplefilter(action='ignore')"
   ]
  },
  {
   "cell_type": "code",
   "execution_count": 103,
   "metadata": {},
   "outputs": [],
   "source": [
    "def clean_str(string):\n",
    "    string = re.sub(r\"\\n\",\"\",string)\n",
    "    string = re.sub(r\"\\r\",\"\",string)\n",
    "    string = re.sub(r\"[0-9]\",\"\",string)\n",
    "    string = re.sub(r\"\\'\",\"\",string)\n",
    "    string = re.sub(r\"\\\"\",\"\",string)\n",
    "    return string.strip().lower()"
   ]
  },
  {
   "cell_type": "code",
   "execution_count": 104,
   "metadata": {},
   "outputs": [],
   "source": [
    "trainData = pd.read_csv(r\"C:\\treinamento_skit_learn\\base.csv\",sep=\";\", encoding='utf-8')"
   ]
  },
  {
   "cell_type": "code",
   "execution_count": 105,
   "metadata": {},
   "outputs": [],
   "source": [
    "trainData['comentario'] = trainData['comentario'].apply(lambda k: clean_str(k.strip()))"
   ]
  },
  {
   "cell_type": "code",
   "execution_count": 106,
   "metadata": {},
   "outputs": [],
   "source": [
    "testData = pd.read_csv(r\"C:\\treinamento_skit_learn\\teste.csv\",sep=\";\", encoding='utf-8')"
   ]
  },
  {
   "cell_type": "code",
   "execution_count": 107,
   "metadata": {},
   "outputs": [],
   "source": [
    "testData['comentario'] = testData['comentario'].apply(lambda k: clean_str(k.strip()))"
   ]
  },
  {
   "cell_type": "code",
   "execution_count": 108,
   "metadata": {},
   "outputs": [],
   "source": [
    "trainData['status'] = trainData['status'].apply(lambda k: k.lower())"
   ]
  },
  {
   "cell_type": "code",
   "execution_count": 109,
   "metadata": {},
   "outputs": [],
   "source": [
    "testData['status'] = testData['status'].apply(lambda k: k.lower())"
   ]
  },
  {
   "cell_type": "code",
   "execution_count": 110,
   "metadata": {},
   "outputs": [],
   "source": [
    "testData['comentario'] = testData['comentario'].apply(lambda k:clean_str(k))\n",
    "trainData['comentario'] = trainData['comentario'].apply(lambda k:clean_str(k))"
   ]
  },
  {
   "cell_type": "code",
   "execution_count": 111,
   "metadata": {},
   "outputs": [],
   "source": [
    "# Criar vetores de recursos\n",
    "vectorizer = TfidfVectorizer(min_df = 1,\n",
    "                             max_df = 0.8,\n",
    "                             sublinear_tf = True,\n",
    "                             use_idf = True)\n",
    "train_vectors = vectorizer.fit_transform(trainData['comentario'])\n",
    "test_vectors = vectorizer.transform(testData['comentario'])"
   ]
  },
  {
   "cell_type": "code",
   "execution_count": 112,
   "metadata": {},
   "outputs": [
    {
     "name": "stdout",
     "output_type": "stream",
     "text": [
      "Tempo de treino: 0.004000s; tempo de previsão: 0.000000s\n",
      "ruim:  {'precision': 0.75, 'recall': 1.0, 'f1-score': 0.8571428571428571, 'support': 3}\n",
      "boa:  {'precision': 1.0, 'recall': 0.4, 'f1-score': 0.5714285714285715, 'support': 5}\n",
      "ironia:  {'precision': 0.6666666666666666, 'recall': 1.0, 'f1-score': 0.8, 'support': 4}\n"
     ]
    }
   ],
   "source": [
    "# Execute a classificação com SVM, kernel=linear\n",
    "classifier_linear = svm.SVC(kernel='linear',C=10.0)\n",
    "t0 = time.time()\n",
    "classifier_linear.fit(train_vectors, trainData['status'])\n",
    "t1 = time.time()\n",
    "prediction_linear = classifier_linear.predict(test_vectors)\n",
    "t2 = time.time()\n",
    "time_linear_train = t1-t0\n",
    "time_linear_predict = t2-t1\n",
    "# results\n",
    "print(\"Tempo de treino: %fs; tempo de previsão: %fs\" % (time_linear_train, time_linear_predict))\n",
    "report = classification_report(testData['status'], prediction_linear, output_dict=True)\n",
    "print('ruim: ',report['ruim'])\n",
    "print('boa: ', report['boa'])\n",
    "print('ironia: ',report['ironia'])\n"
   ]
  },
  {
   "cell_type": "code",
   "execution_count": 113,
   "metadata": {},
   "outputs": [
    {
     "data": {
      "text/plain": [
       "<1x428 sparse matrix of type '<class 'numpy.float64'>'\n",
       "\twith 0 stored elements in Compressed Sparse Row format>"
      ]
     },
     "execution_count": 113,
     "metadata": {},
     "output_type": "execute_result"
    }
   ],
   "source": [
    "vectorizer.transform(['comentario'])"
   ]
  },
  {
   "cell_type": "code",
   "execution_count": 114,
   "metadata": {},
   "outputs": [
    {
     "data": {
      "text/html": [
       "<div>\n",
       "<style scoped>\n",
       "    .dataframe tbody tr th:only-of-type {\n",
       "        vertical-align: middle;\n",
       "    }\n",
       "\n",
       "    .dataframe tbody tr th {\n",
       "        vertical-align: top;\n",
       "    }\n",
       "\n",
       "    .dataframe thead th {\n",
       "        text-align: right;\n",
       "    }\n",
       "</style>\n",
       "<table border=\"1\" class=\"dataframe\">\n",
       "  <thead>\n",
       "    <tr style=\"text-align: right;\">\n",
       "      <th></th>\n",
       "      <th>comentario</th>\n",
       "      <th>status</th>\n",
       "    </tr>\n",
       "  </thead>\n",
       "  <tbody>\n",
       "    <tr>\n",
       "      <th>0</th>\n",
       "      <td>milh�es de mortes? como ??? no brasil tem por ...</td>\n",
       "      <td>ruim</td>\n",
       "    </tr>\n",
       "    <tr>\n",
       "      <th>1</th>\n",
       "      <td>kkkkkkkkkkkk  reais ?</td>\n",
       "      <td>ironia</td>\n",
       "    </tr>\n",
       "    <tr>\n",
       "      <th>2</th>\n",
       "      <td>sal�rio nacional $</td>\n",
       "      <td>ironia</td>\n",
       "    </tr>\n",
       "    <tr>\n",
       "      <th>3</th>\n",
       "      <td>sal�rio s�o paulo $</td>\n",
       "      <td>ironia</td>\n",
       "    </tr>\n",
       "    <tr>\n",
       "      <th>4</th>\n",
       "      <td>em s�o paulo � maior pq?</td>\n",
       "      <td>indigna��o</td>\n",
       "    </tr>\n",
       "    <tr>\n",
       "      <th>5</th>\n",
       "      <td>milh�es morreu... kkkkkkkkkkk</td>\n",
       "      <td>ironia</td>\n",
       "    </tr>\n",
       "    <tr>\n",
       "      <th>6</th>\n",
       "      <td>se esse coment�rio tiver uma curtida j� ficare...</td>\n",
       "      <td>boa</td>\n",
       "    </tr>\n",
       "    <tr>\n",
       "      <th>7</th>\n",
       "      <td>te amo ?? obrigada #lula</td>\n",
       "      <td>boa</td>\n",
       "    </tr>\n",
       "    <tr>\n",
       "      <th>8</th>\n",
       "      <td>finalmente criaram vergonha na cara e come�ara...</td>\n",
       "      <td>boa</td>\n",
       "    </tr>\n",
       "    <tr>\n",
       "      <th>9</th>\n",
       "      <td>desgoverno da fome, da lacra��o, da ostenta��o...</td>\n",
       "      <td>ruim</td>\n",
       "    </tr>\n",
       "    <tr>\n",
       "      <th>10</th>\n",
       "      <td>h curtidasresponder</td>\n",
       "      <td>ruim</td>\n",
       "    </tr>\n",
       "    <tr>\n",
       "      <th>11</th>\n",
       "      <td>milh�es de brasileiros morreram? o brasil acab...</td>\n",
       "      <td>ruim</td>\n",
       "    </tr>\n",
       "    <tr>\n",
       "      <th>12</th>\n",
       "      <td>nosso pa�s est� voltando a ser forte. que orgu...</td>\n",
       "      <td>boa</td>\n",
       "    </tr>\n",
       "    <tr>\n",
       "      <th>13</th>\n",
       "      <td>mano esse sal�rio � uma vergonha  pra vc fazer...</td>\n",
       "      <td>ruim</td>\n",
       "    </tr>\n",
       "    <tr>\n",
       "      <th>14</th>\n",
       "      <td>porque bloqueou o bolsa fam�lia d�s pessoas qu...</td>\n",
       "      <td>indignacao</td>\n",
       "    </tr>\n",
       "    <tr>\n",
       "      <th>15</th>\n",
       "      <td>deputado pelo amor de deus mande desbloquear q...</td>\n",
       "      <td>indignacao</td>\n",
       "    </tr>\n",
       "    <tr>\n",
       "      <th>16</th>\n",
       "      <td>pe�o que tenha uma bolsa diferente para n�s id...</td>\n",
       "      <td>ruim</td>\n",
       "    </tr>\n",
       "    <tr>\n",
       "      <th>17</th>\n",
       "      <td>voc� tem uma adimiradora no cear� eu gra�a men...</td>\n",
       "      <td>boa</td>\n",
       "    </tr>\n",
       "    <tr>\n",
       "      <th>18</th>\n",
       "      <td>homems de deus qu� deus aben�oa ?? voc�s</td>\n",
       "      <td>boa</td>\n",
       "    </tr>\n",
       "    <tr>\n",
       "      <th>19</th>\n",
       "      <td>oi pq est� bloqueando quem est� com o cadastro...</td>\n",
       "      <td>indignacao</td>\n",
       "    </tr>\n",
       "    <tr>\n",
       "      <th>20</th>\n",
       "      <td>� meu querido e amado deputado vamos vamos � luta</td>\n",
       "      <td>boa</td>\n",
       "    </tr>\n",
       "    <tr>\n",
       "      <th>21</th>\n",
       "      <td>feliz com vc e com nosso presidente lulinha pa...</td>\n",
       "      <td>boa</td>\n",
       "    </tr>\n",
       "    <tr>\n",
       "      <th>22</th>\n",
       "      <td>� uma injusti�a pessoas que moram s� e n�o tem...</td>\n",
       "      <td>ruim</td>\n",
       "    </tr>\n",
       "    <tr>\n",
       "      <th>23</th>\n",
       "      <td>as m�es solteiras a maioria n�o tem ajuda nenh...</td>\n",
       "      <td>ruim</td>\n",
       "    </tr>\n",
       "    <tr>\n",
       "      <th>24</th>\n",
       "      <td>feliz com vc e com nosso presidente lulinha pa...</td>\n",
       "      <td>boa</td>\n",
       "    </tr>\n",
       "    <tr>\n",
       "      <th>25</th>\n",
       "      <td>duas pessoas dos cora��es cheio de amor que de...</td>\n",
       "      <td>boa</td>\n",
       "    </tr>\n",
       "    <tr>\n",
       "      <th>26</th>\n",
       "      <td>reiterano nos o rspeitamos decizao povo senor ...</td>\n",
       "      <td>boa</td>\n",
       "    </tr>\n",
       "    <tr>\n",
       "      <th>27</th>\n",
       "      <td>s� jesus na causa viu</td>\n",
       "      <td>indignacao</td>\n",
       "    </tr>\n",
       "    <tr>\n",
       "      <th>28</th>\n",
       "      <td>quem d� aos pobres tira da classe m�dia, que p...</td>\n",
       "      <td>indignacao</td>\n",
       "    </tr>\n",
       "    <tr>\n",
       "      <th>29</th>\n",
       "      <td>falou por amor kkkk</td>\n",
       "      <td>ironia</td>\n",
       "    </tr>\n",
       "    <tr>\n",
       "      <th>30</th>\n",
       "      <td>esta otimo? kkkk</td>\n",
       "      <td>ironia</td>\n",
       "    </tr>\n",
       "    <tr>\n",
       "      <th>31</th>\n",
       "      <td>isso parece piada, esta otimo? kkkk</td>\n",
       "      <td>ironia</td>\n",
       "    </tr>\n",
       "    <tr>\n",
       "      <th>32</th>\n",
       "      <td>só jesus na causa viu</td>\n",
       "      <td>ironia</td>\n",
       "    </tr>\n",
       "    <tr>\n",
       "      <th>33</th>\n",
       "      <td>quem manda são os povo que vota então quem man...</td>\n",
       "      <td>boa</td>\n",
       "    </tr>\n",
       "    <tr>\n",
       "      <th>34</th>\n",
       "      <td>lula pagando  mil de diária em hotel de luxo, ...</td>\n",
       "      <td>ironia</td>\n",
       "    </tr>\n",
       "    <tr>\n",
       "      <th>35</th>\n",
       "      <td>meu bolsa família foi cortado e eu tenho filho...</td>\n",
       "      <td>ruim</td>\n",
       "    </tr>\n",
       "    <tr>\n",
       "      <th>36</th>\n",
       "      <td>porque cortaram o auxílio de quem trabalha de ...</td>\n",
       "      <td>ruim</td>\n",
       "    </tr>\n",
       "    <tr>\n",
       "      <th>37</th>\n",
       "      <td>como.foi fala de lula é gafe, se fosse de bols...</td>\n",
       "      <td>ironia</td>\n",
       "    </tr>\n",
       "    <tr>\n",
       "      <th>38</th>\n",
       "      <td>este é o perfil da extrema esquerda não sabem ...</td>\n",
       "      <td>ruim</td>\n",
       "    </tr>\n",
       "    <tr>\n",
       "      <th>39</th>\n",
       "      <td>kkkkk ele não faz outra coisa a não ser mentir...</td>\n",
       "      <td>ironia</td>\n",
       "    </tr>\n",
       "    <tr>\n",
       "      <th>40</th>\n",
       "      <td>é muita cachaça viu!...kkkkkkkk. outro dia ele...</td>\n",
       "      <td>ironia</td>\n",
       "    </tr>\n",
       "    <tr>\n",
       "      <th>41</th>\n",
       "      <td>esse véio tá maluco e gaga.</td>\n",
       "      <td>ironia</td>\n",
       "    </tr>\n",
       "    <tr>\n",
       "      <th>42</th>\n",
       "      <td>foi erro, não é mentira mesmo ele quer que tod...</td>\n",
       "      <td>ruim</td>\n",
       "    </tr>\n",
       "    <tr>\n",
       "      <th>43</th>\n",
       "      <td>garfe o povo brasileiro cometeu quando votou n...</td>\n",
       "      <td>ruim</td>\n",
       "    </tr>\n",
       "    <tr>\n",
       "      <th>44</th>\n",
       "      <td>mentir mentir mentir isso é o que o atual pres...</td>\n",
       "      <td>ruim</td>\n",
       "    </tr>\n",
       "    <tr>\n",
       "      <th>45</th>\n",
       "      <td>na minha concepção, o nosso lula, precisa de a...</td>\n",
       "      <td>boa</td>\n",
       "    </tr>\n",
       "    <tr>\n",
       "      <th>46</th>\n",
       "      <td>a mentira revela-se por se própria ou o mentir...</td>\n",
       "      <td>ruim</td>\n",
       "    </tr>\n",
       "    <tr>\n",
       "      <th>47</th>\n",
       "      <td>em matéria de números, lula sempre mentiu.</td>\n",
       "      <td>ruim</td>\n",
       "    </tr>\n",
       "    <tr>\n",
       "      <th>48</th>\n",
       "      <td>bebum analfabeto....kkkkkk</td>\n",
       "      <td>ironia</td>\n",
       "    </tr>\n",
       "    <tr>\n",
       "      <th>49</th>\n",
       "      <td>uma coisa básica , esse bandido não tem nem no...</td>\n",
       "      <td>ironia</td>\n",
       "    </tr>\n",
       "  </tbody>\n",
       "</table>\n",
       "</div>"
      ],
      "text/plain": [
       "                                           comentario      status\n",
       "0   milh�es de mortes? como ??? no brasil tem por ...        ruim\n",
       "1                               kkkkkkkkkkkk  reais ?      ironia\n",
       "2                                  sal�rio nacional $      ironia\n",
       "3                                 sal�rio s�o paulo $      ironia\n",
       "4                            em s�o paulo � maior pq?  indigna��o\n",
       "5                       milh�es morreu... kkkkkkkkkkk      ironia\n",
       "6   se esse coment�rio tiver uma curtida j� ficare...         boa\n",
       "7                            te amo ?? obrigada #lula         boa\n",
       "8   finalmente criaram vergonha na cara e come�ara...         boa\n",
       "9   desgoverno da fome, da lacra��o, da ostenta��o...        ruim\n",
       "10                                h curtidasresponder        ruim\n",
       "11  milh�es de brasileiros morreram? o brasil acab...        ruim\n",
       "12  nosso pa�s est� voltando a ser forte. que orgu...         boa\n",
       "13  mano esse sal�rio � uma vergonha  pra vc fazer...        ruim\n",
       "14  porque bloqueou o bolsa fam�lia d�s pessoas qu...  indignacao\n",
       "15  deputado pelo amor de deus mande desbloquear q...  indignacao\n",
       "16  pe�o que tenha uma bolsa diferente para n�s id...        ruim\n",
       "17  voc� tem uma adimiradora no cear� eu gra�a men...         boa\n",
       "18           homems de deus qu� deus aben�oa ?? voc�s         boa\n",
       "19  oi pq est� bloqueando quem est� com o cadastro...  indignacao\n",
       "20  � meu querido e amado deputado vamos vamos � luta         boa\n",
       "21  feliz com vc e com nosso presidente lulinha pa...         boa\n",
       "22  � uma injusti�a pessoas que moram s� e n�o tem...        ruim\n",
       "23  as m�es solteiras a maioria n�o tem ajuda nenh...        ruim\n",
       "24  feliz com vc e com nosso presidente lulinha pa...         boa\n",
       "25  duas pessoas dos cora��es cheio de amor que de...         boa\n",
       "26  reiterano nos o rspeitamos decizao povo senor ...         boa\n",
       "27                              s� jesus na causa viu  indignacao\n",
       "28  quem d� aos pobres tira da classe m�dia, que p...  indignacao\n",
       "29                                falou por amor kkkk      ironia\n",
       "30                                   esta otimo? kkkk      ironia\n",
       "31                isso parece piada, esta otimo? kkkk      ironia\n",
       "32                              só jesus na causa viu      ironia\n",
       "33  quem manda são os povo que vota então quem man...         boa\n",
       "34  lula pagando  mil de diária em hotel de luxo, ...      ironia\n",
       "35  meu bolsa família foi cortado e eu tenho filho...        ruim\n",
       "36  porque cortaram o auxílio de quem trabalha de ...        ruim\n",
       "37  como.foi fala de lula é gafe, se fosse de bols...      ironia\n",
       "38  este é o perfil da extrema esquerda não sabem ...        ruim\n",
       "39  kkkkk ele não faz outra coisa a não ser mentir...      ironia\n",
       "40  é muita cachaça viu!...kkkkkkkk. outro dia ele...      ironia\n",
       "41                        esse véio tá maluco e gaga.      ironia\n",
       "42  foi erro, não é mentira mesmo ele quer que tod...        ruim\n",
       "43  garfe o povo brasileiro cometeu quando votou n...        ruim\n",
       "44  mentir mentir mentir isso é o que o atual pres...        ruim\n",
       "45  na minha concepção, o nosso lula, precisa de a...         boa\n",
       "46  a mentira revela-se por se própria ou o mentir...        ruim\n",
       "47         em matéria de números, lula sempre mentiu.        ruim\n",
       "48                         bebum analfabeto....kkkkkk      ironia\n",
       "49  uma coisa básica , esse bandido não tem nem no...      ironia"
      ]
     },
     "execution_count": 114,
     "metadata": {},
     "output_type": "execute_result"
    }
   ],
   "source": [
    "trainData"
   ]
  },
  {
   "cell_type": "code",
   "execution_count": 115,
   "metadata": {},
   "outputs": [
    {
     "data": {
      "text/plain": [
       "'TESTE FRASES'"
      ]
     },
     "execution_count": 115,
     "metadata": {},
     "output_type": "execute_result"
    }
   ],
   "source": [
    "\"\"\"TESTE FRASES\"\"\""
   ]
  },
  {
   "cell_type": "code",
   "execution_count": 116,
   "metadata": {},
   "outputs": [
    {
     "name": "stdout",
     "output_type": "stream",
     "text": [
      "['boa']\n"
     ]
    }
   ],
   "source": [
    "\n",
    "review = \"\"\"700 milhões de habitantes, vamos chegar na China e Índia.\"\"\"\n",
    "review = clean_str(review)\n",
    "review_vector = vectorizer.transform([review]) # vetorizando\n",
    "print(classifier_linear.predict(review_vector))"
   ]
  },
  {
   "cell_type": "code",
   "execution_count": 117,
   "metadata": {},
   "outputs": [
    {
     "name": "stdout",
     "output_type": "stream",
     "text": [
      "['ruim']\n"
     ]
    }
   ],
   "source": [
    "review = \"\"\"O meu beneficio foi cortado. Meu marido desempregado. Nao tenho renda nenhuma. So Deus\"\"\"\n",
    "review = clean_str(review)\n",
    "review_vector = vectorizer.transform([review]) # vetorizando\n",
    "print(classifier_linear.predict(review_vector))"
   ]
  },
  {
   "cell_type": "code",
   "execution_count": 118,
   "metadata": {},
   "outputs": [
    {
     "name": "stdout",
     "output_type": "stream",
     "text": [
      "['ironia']\n"
     ]
    }
   ],
   "source": [
    "review = \"\"\"Falou por amor kkkk\"\"\"\n",
    "review = clean_str(review)\n",
    "review_vector = vectorizer.transform([review]) # vetorizando\n",
    "print(classifier_linear.predict(review_vector))"
   ]
  },
  {
   "cell_type": "code",
   "execution_count": 119,
   "metadata": {},
   "outputs": [
    {
     "name": "stdout",
     "output_type": "stream",
     "text": [
      "['ironia']\n"
     ]
    }
   ],
   "source": [
    "review = \"\"\"Não é gafe, é a mais pura e sublime burrice! Um fantoche nas mãos de quem realmente tá governando esse país, e os trouxas que o idolatram são absurdamente incapazes de perceber!\"\"\"\n",
    "review = clean_str(review)\n",
    "review_vector = vectorizer.transform([review]) # vetorizando\n",
    "print(classifier_linear.predict(review_vector))"
   ]
  },
  {
   "cell_type": "code",
   "execution_count": 120,
   "metadata": {},
   "outputs": [
    {
     "name": "stdout",
     "output_type": "stream",
     "text": [
      "['boa']\n"
     ]
    }
   ],
   "source": [
    "review = \"\"\"Parabéns deputado André janones você é o nosso presidente Lula sempre buscando meios pra nos ajudar Deus abençoe.\"\"\"\n",
    "review = clean_str(review)\n",
    "review_vector = vectorizer.transform([review])\n",
    "print(classifier_linear.predict(review_vector))"
   ]
  }
 ],
 "metadata": {
  "kernelspec": {
   "display_name": "venv",
   "language": "python",
   "name": "python3"
  },
  "language_info": {
   "codemirror_mode": {
    "name": "ipython",
    "version": 3
   },
   "file_extension": ".py",
   "mimetype": "text/x-python",
   "name": "python",
   "nbconvert_exporter": "python",
   "pygments_lexer": "ipython3",
   "version": "3.11.2"
  },
  "orig_nbformat": 4
 },
 "nbformat": 4,
 "nbformat_minor": 2
}
