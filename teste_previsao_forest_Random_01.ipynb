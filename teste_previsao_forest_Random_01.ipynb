{
 "cells": [
  {
   "cell_type": "code",
   "execution_count": 40,
   "metadata": {},
   "outputs": [],
   "source": [
    "import datetime as dt\n",
    "import pandas as pd\n",
    "import numpy as np\n",
    "from numpy import arange\n",
    "import matplotlib.pyplot as plt\n",
    "from pandas import read_csv\n",
    "from sklearn import metrics\n",
    "from sklearn.model_selection import train_test_split\n",
    "from sklearn.ensemble import RandomForestRegressor\n",
    "from sklearn.preprocessing import StandardScaler\n",
    "from sklearn.model_selection import RandomizedSearchCV\n",
    "\n",
    "\n",
    "import warnings\n",
    "warnings.simplefilter(action='ignore')"
   ]
  },
  {
   "cell_type": "code",
   "execution_count": 41,
   "metadata": {},
   "outputs": [],
   "source": [
    "df = pd.read_excel(r\"C:\\treinamento_skit_learn\\Computed Prices With Metadata.xlsx\")\n",
    "df.drop_duplicates(inplace=True)\n",
    "#df.set_index(\"Date\", inplace=True)\n",
    "df['Valid Until'] = pd.to_datetime(df['Valid Until'],errors='coerce')\n",
    "\n",
    "df['EAN (View Only)'] = df['EAN (View Only)'].astype(str).apply(lambda k: str(k).split(\".0\")[0])\n",
    "\n",
    "produtos = df[['SKU ID', 'Trade Policy', 'List Price', 'Price', 'Cost Price',\n",
    "        'Product ID (View Only)']]\n",
    "       \n",
    "produtos[['List Price','Price','Cost Price']] = produtos[['List Price','Price','Cost Price']].applymap(lambda k: float(str(k).replace(\".\",\"\").replace(\",\",\".\"))).round(2)"
   ]
  },
  {
   "cell_type": "code",
   "execution_count": 42,
   "metadata": {},
   "outputs": [],
   "source": [
    "produtos.dropna(inplace=True)"
   ]
  },
  {
   "cell_type": "code",
   "execution_count": 43,
   "metadata": {},
   "outputs": [
    {
     "data": {
      "text/html": [
       "<div>\n",
       "<style scoped>\n",
       "    .dataframe tbody tr th:only-of-type {\n",
       "        vertical-align: middle;\n",
       "    }\n",
       "\n",
       "    .dataframe tbody tr th {\n",
       "        vertical-align: top;\n",
       "    }\n",
       "\n",
       "    .dataframe thead th {\n",
       "        text-align: right;\n",
       "    }\n",
       "</style>\n",
       "<table border=\"1\" class=\"dataframe\">\n",
       "  <thead>\n",
       "    <tr style=\"text-align: right;\">\n",
       "      <th></th>\n",
       "      <th>SKU ID</th>\n",
       "      <th>Trade Policy</th>\n",
       "      <th>List Price</th>\n",
       "      <th>Cost Price</th>\n",
       "      <th>Product ID (View Only)</th>\n",
       "    </tr>\n",
       "  </thead>\n",
       "  <tbody>\n",
       "    <tr>\n",
       "      <th>0</th>\n",
       "      <td>129</td>\n",
       "      <td>1</td>\n",
       "      <td>199.0</td>\n",
       "      <td>197.0</td>\n",
       "      <td>129</td>\n",
       "    </tr>\n",
       "    <tr>\n",
       "      <th>1</th>\n",
       "      <td>129</td>\n",
       "      <td>2</td>\n",
       "      <td>199.0</td>\n",
       "      <td>197.0</td>\n",
       "      <td>129</td>\n",
       "    </tr>\n",
       "    <tr>\n",
       "      <th>2</th>\n",
       "      <td>129</td>\n",
       "      <td>4</td>\n",
       "      <td>27937.0</td>\n",
       "      <td>197.0</td>\n",
       "      <td>129</td>\n",
       "    </tr>\n",
       "    <tr>\n",
       "      <th>3</th>\n",
       "      <td>129</td>\n",
       "      <td>6</td>\n",
       "      <td>299.0</td>\n",
       "      <td>197.0</td>\n",
       "      <td>129</td>\n",
       "    </tr>\n",
       "    <tr>\n",
       "      <th>4</th>\n",
       "      <td>129</td>\n",
       "      <td>10</td>\n",
       "      <td>299.0</td>\n",
       "      <td>197.0</td>\n",
       "      <td>129</td>\n",
       "    </tr>\n",
       "    <tr>\n",
       "      <th>...</th>\n",
       "      <td>...</td>\n",
       "      <td>...</td>\n",
       "      <td>...</td>\n",
       "      <td>...</td>\n",
       "      <td>...</td>\n",
       "    </tr>\n",
       "    <tr>\n",
       "      <th>6732</th>\n",
       "      <td>791</td>\n",
       "      <td>10</td>\n",
       "      <td>13936.0</td>\n",
       "      <td>9743.0</td>\n",
       "      <td>791</td>\n",
       "    </tr>\n",
       "    <tr>\n",
       "      <th>6733</th>\n",
       "      <td>791</td>\n",
       "      <td>13</td>\n",
       "      <td>13936.0</td>\n",
       "      <td>9743.0</td>\n",
       "      <td>791</td>\n",
       "    </tr>\n",
       "    <tr>\n",
       "      <th>6734</th>\n",
       "      <td>791</td>\n",
       "      <td>14</td>\n",
       "      <td>13936.0</td>\n",
       "      <td>9743.0</td>\n",
       "      <td>791</td>\n",
       "    </tr>\n",
       "    <tr>\n",
       "      <th>6735</th>\n",
       "      <td>791</td>\n",
       "      <td>15</td>\n",
       "      <td>13936.0</td>\n",
       "      <td>9743.0</td>\n",
       "      <td>791</td>\n",
       "    </tr>\n",
       "    <tr>\n",
       "      <th>6736</th>\n",
       "      <td>791</td>\n",
       "      <td>17</td>\n",
       "      <td>13936.0</td>\n",
       "      <td>9743.0</td>\n",
       "      <td>791</td>\n",
       "    </tr>\n",
       "  </tbody>\n",
       "</table>\n",
       "<p>6737 rows × 5 columns</p>\n",
       "</div>"
      ],
      "text/plain": [
       "      SKU ID  Trade Policy  List Price  Cost Price  Product ID (View Only)\n",
       "0        129             1       199.0       197.0                     129\n",
       "1        129             2       199.0       197.0                     129\n",
       "2        129             4     27937.0       197.0                     129\n",
       "3        129             6       299.0       197.0                     129\n",
       "4        129            10       299.0       197.0                     129\n",
       "...      ...           ...         ...         ...                     ...\n",
       "6732     791            10     13936.0      9743.0                     791\n",
       "6733     791            13     13936.0      9743.0                     791\n",
       "6734     791            14     13936.0      9743.0                     791\n",
       "6735     791            15     13936.0      9743.0                     791\n",
       "6736     791            17     13936.0      9743.0                     791\n",
       "\n",
       "[6737 rows x 5 columns]"
      ]
     },
     "execution_count": 43,
     "metadata": {},
     "output_type": "execute_result"
    }
   ],
   "source": [
    "\n",
    "y = produtos['Price']\n",
    "x = produtos.drop(['Price'],axis=1)\n",
    "x"
   ]
  },
  {
   "cell_type": "code",
   "execution_count": 44,
   "metadata": {},
   "outputs": [
    {
     "name": "stdout",
     "output_type": "stream",
     "text": [
      "      SKU ID  Trade Policy  List Price  Cost Price  Product ID (View Only)\n",
      "0        129             1       199.0       197.0                     129\n",
      "1        129             2       199.0       197.0                     129\n",
      "2        129             4     27937.0       197.0                     129\n",
      "3        129             6       299.0       197.0                     129\n",
      "4        129            10       299.0       197.0                     129\n",
      "...      ...           ...         ...         ...                     ...\n",
      "6732     791            10     13936.0      9743.0                     791\n",
      "6733     791            13     13936.0      9743.0                     791\n",
      "6734     791            14     13936.0      9743.0                     791\n",
      "6735     791            15     13936.0      9743.0                     791\n",
      "6736     791            17     13936.0      9743.0                     791\n",
      "\n",
      "[6737 rows x 5 columns]\n"
     ]
    }
   ],
   "source": [
    "print(x)"
   ]
  },
  {
   "cell_type": "code",
   "execution_count": 45,
   "metadata": {},
   "outputs": [],
   "source": [
    "\"\"\"Separa modelos\"\"\"\n",
    "x_train, x_test, y_train, y_test = train_test_split(x, y, test_size=0.33,  random_state=0)"
   ]
  },
  {
   "cell_type": "code",
   "execution_count": 46,
   "metadata": {},
   "outputs": [],
   "source": [
    "scale = StandardScaler()\n",
    "x_train = scale.fit_transform(x_train)\n",
    "x_test = scale.transform(x_test)"
   ]
  },
  {
   "cell_type": "code",
   "execution_count": 47,
   "metadata": {},
   "outputs": [
    {
     "data": {
      "text/plain": [
       "array([[-0.25573092, -1.23796222, -0.23996197, -0.15674395, -0.2528318 ],\n",
       "       [ 0.46283449,  1.39845684, -0.22998259, -0.25268388,  0.46662098],\n",
       "       [-0.72590334,  1.39845684, -0.17759088, -0.03948403, -0.72358485],\n",
       "       ...,\n",
       "       [ 0.14790768,  0.16812794,  0.00919806, -0.61322528,  0.15130526],\n",
       "       [ 0.88865103,  0.69541175,  0.09644274,  1.08492617,  0.89296337],\n",
       "       [ 0.40073624,  1.39845684, -0.00507244,  0.66831029,  0.40444605]])"
      ]
     },
     "execution_count": 47,
     "metadata": {},
     "output_type": "execute_result"
    }
   ],
   "source": [
    "x_test"
   ]
  },
  {
   "cell_type": "code",
   "execution_count": 48,
   "metadata": {},
   "outputs": [
    {
     "data": {
      "text/plain": [
       "array([ 4595.62768831,  4999.44895166,  7096.74120393, ...,\n",
       "       14537.77167993, 18140.91366572, 14017.14020166])"
      ]
     },
     "execution_count": 48,
     "metadata": {},
     "output_type": "execute_result"
    }
   ],
   "source": [
    "\"\"\"Estimador Forest Regressor\"\"\"\n",
    "rscv = RandomForestRegressor(n_estimators=500, random_state=42, min_samples_split=2, min_samples_leaf=1, max_depth=10, bootstrap=True)\n",
    "rscv_fit = rscv.fit(x_train, y_train)\n",
    "predict = rscv.predict(x_test)\n",
    "predict"
   ]
  },
  {
   "cell_type": "code",
   "execution_count": 49,
   "metadata": {},
   "outputs": [
    {
     "data": {
      "text/plain": [
       "3302     4599.0\n",
       "4315     4999.0\n",
       "1580     7099.0\n",
       "4086    11336.0\n",
       "3896    20189.0\n",
       "         ...   \n",
       "507      5399.0\n",
       "5783    23176.0\n",
       "2980    14586.0\n",
       "5770    18083.0\n",
       "4189    14014.0\n",
       "Name: Price, Length: 2224, dtype: float64"
      ]
     },
     "execution_count": 49,
     "metadata": {},
     "output_type": "execute_result"
    }
   ],
   "source": [
    "y_test"
   ]
  },
  {
   "cell_type": "code",
   "execution_count": 50,
   "metadata": {},
   "outputs": [
    {
     "name": "stdout",
     "output_type": "stream",
     "text": [
      "Mean Absolute Error: 239.4578\n",
      "Mean Squared Error: 20978278.6188\n",
      "Root Mean Squared Error: 4580.2051\n",
      "(R^2) Score: 0.9896\n",
      "Train Score : 99.90% and Test Score : 98.96% using Random Tree Regressor.\n",
      "Accuracy: 99.02 %.\n"
     ]
    }
   ],
   "source": [
    "print(\"Mean Absolute Error:\", round(metrics.mean_absolute_error(y_test, predict), 4))\n",
    "print(\"Mean Squared Error:\", round(metrics.mean_squared_error(y_test, predict), 4))\n",
    "print(\"Root Mean Squared Error:\", round(np.sqrt(metrics.mean_squared_error(y_test, predict)), 4))\n",
    "print(\"(R^2) Score:\", round(metrics.r2_score(y_test, predict), 4))\n",
    "print(f'Train Score : {rscv.score(x_train, y_train) * 100:.2f}% and Test Score : {rscv.score(x_test, y_test) * 100:.2f}% using Random Tree Regressor.')\n",
    "errors = abs(predict - y_test)\n",
    "mape = 100 * (errors / y_test)\n",
    "accuracy = 100 - np.mean(mape)\n",
    "print('Accuracy:', round(accuracy, 2), '%.') "
   ]
  }
 ],
 "metadata": {
  "kernelspec": {
   "display_name": "venv",
   "language": "python",
   "name": "python3"
  },
  "language_info": {
   "codemirror_mode": {
    "name": "ipython",
    "version": 3
   },
   "file_extension": ".py",
   "mimetype": "text/x-python",
   "name": "python",
   "nbconvert_exporter": "python",
   "pygments_lexer": "ipython3",
   "version": "3.11.2"
  },
  "orig_nbformat": 4
 },
 "nbformat": 4,
 "nbformat_minor": 2
}
